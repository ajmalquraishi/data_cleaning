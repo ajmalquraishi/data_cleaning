{
 "cells": [
  {
   "cell_type": "markdown",
   "metadata": {},
   "source": [
    "Statement vs Expression\n"
   ]
  },
  {
   "cell_type": "code",
   "execution_count": 1,
   "metadata": {},
   "outputs": [
    {
     "name": "stdout",
     "output_type": "stream",
     "text": [
      "10 10.0\n"
     ]
    }
   ],
   "source": [
    "#Statement hai isme sab total likha hota hai or right se shoro hota hai\n",
    "a,b =10,20/2; #20/2 ye expression hai jis me koi output ho\n",
    "print(a,b)\n"
   ]
  },
  {
   "cell_type": "markdown",
   "metadata": {},
   "source": [
    "Augmented Assignment Operator\n"
   ]
  },
  {
   "cell_type": "code",
   "execution_count": 2,
   "metadata": {},
   "outputs": [
    {
     "name": "stdout",
     "output_type": "stream",
     "text": [
      "20\n",
      "19\n"
     ]
    }
   ],
   "source": [
    "a = 10;\n",
    "#statement ko compacted(order de rahe) kr rahe hen\n",
    "a +=10; \n",
    "print(a)\n",
    "a -=1;\n",
    "print(a);"
   ]
  },
  {
   "cell_type": "markdown",
   "metadata": {},
   "source": [
    "Input Function"
   ]
  },
  {
   "cell_type": "code",
   "execution_count": 5,
   "metadata": {},
   "outputs": [
    {
     "name": "stdout",
     "output_type": "stream",
     "text": [
      "Hoo Apka Ajmal hai\n"
     ]
    }
   ],
   "source": [
    "name = input('Apka Naam');\n",
    "print('Hoo Apka',name,'hai')"
   ]
  },
  {
   "cell_type": "markdown",
   "metadata": {},
   "source": [
    "Type Conversion"
   ]
  },
  {
   "cell_type": "code",
   "execution_count": 6,
   "metadata": {},
   "outputs": [
    {
     "name": "stdout",
     "output_type": "stream",
     "text": [
      "7\n"
     ]
    }
   ],
   "source": [
    "num_1 = 2;\n",
    "num_2 = int(input('Enter Any number')); #by defualt ye string leta hai or input ko string me convert kr deta hai\n",
    "print(num_1+num_2);"
   ]
  },
  {
   "cell_type": "code",
   "execution_count": 7,
   "metadata": {},
   "outputs": [
    {
     "name": "stdout",
     "output_type": "stream",
     "text": [
      "Aapne sirf number likhne kaha tha, kripya sirf number likhein.\n"
     ]
    }
   ],
   "source": [
    "def check_string(input_str):\n",
    "    if input_str.isdigit():\n",
    "        print(\"Sirf number\")\n",
    "    else:\n",
    "        print(\"Aapne sirf number likhne kaha tha, kripya sirf number likhein.\")\n",
    "\n",
    "# Example usage:\n",
    "user_input = input(\"Kripya kuch likhein: \")\n",
    "check_string(user_input)\n"
   ]
  },
  {
   "cell_type": "markdown",
   "metadata": {},
   "source": [
    "String Formatting\n"
   ]
  },
  {
   "cell_type": "code",
   "execution_count": 8,
   "metadata": {},
   "outputs": [
    {
     "name": "stdout",
     "output_type": "stream",
     "text": [
      "Hey  Ajmal Your item price is 10\n",
      "Hey Ajmal, Your item price is10\n",
      "Hey Ajmal Your item price is 10\n",
      "Hey Ajmal Your item price is 10\n",
      "Hey 10 Your item price is Ajmal\n"
     ]
    }
   ],
   "source": [
    "name = 'Ajmal';\n",
    "price = 10;\n",
    "print(\"Hey \",name, \"Your item price is\",price); #muskil tareka\n",
    "print(f'Hey {name}, Your item price is{price}'); # new but sabse asaan tarika\n",
    "print(\"Hey {} Your item price is {}\".format(name,price));# old bt muskil trika\n",
    "print(\"Hey {0} Your item price is {1}\".format(name, price));# old index k zariye index 0 se shoro hota hai\n",
    "print(\"Hey {1} Your item price is {0}\".format(name, price)); #agr index glat dala to vlue bhi galat hojeaga\n"
   ]
  },
  {
   "cell_type": "markdown",
   "metadata": {},
   "source": [
    "Indexing "
   ]
  },
  {
   "cell_type": "code",
   "execution_count": 7,
   "metadata": {},
   "outputs": [
    {
     "name": "stdout",
     "output_type": "stream",
     "text": [
      "l\n",
      "blabla\n",
      "bal\n",
      "bb\n",
      "a\n",
      "bl\n",
      "albalb\n"
     ]
    }
   ],
   "source": [
    "osc = \"blabla\"\n",
    "print(osc[1]);\n",
    "print(osc[0::1]);\n",
    "print(osc[0::2]);\n",
    "print(osc[0::3]);\n",
    "print(osc[-1])\n",
    "print(osc[-3:-1]);\n",
    "print(osc[::-1]);\n"
   ]
  },
  {
   "cell_type": "markdown",
   "metadata": {},
   "source": [
    "Immutability\n"
   ]
  },
  {
   "cell_type": "code",
   "execution_count": 8,
   "metadata": {},
   "outputs": [
    {
     "name": "stdout",
     "output_type": "stream",
     "text": [
      "m\n"
     ]
    }
   ],
   "source": [
    "str_1 = \"Ajmal\";\n",
    "str_2 = 12345;\n",
    "str_3 ='12345';\n",
    "print(str_1[2])\n"
   ]
  }
 ],
 "metadata": {
  "kernelspec": {
   "display_name": "python",
   "language": "python",
   "name": "python3"
  },
  "language_info": {
   "codemirror_mode": {
    "name": "ipython",
    "version": 3
   },
   "file_extension": ".py",
   "mimetype": "text/x-python",
   "name": "python",
   "nbconvert_exporter": "python",
   "pygments_lexer": "ipython3",
   "version": "3.12.2"
  }
 },
 "nbformat": 4,
 "nbformat_minor": 2
}
