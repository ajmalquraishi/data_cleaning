{
 "cells": [
  {
   "cell_type": "markdown",
   "metadata": {},
   "source": [
    "Statement vs Expression\n"
   ]
  },
  {
   "cell_type": "code",
   "execution_count": 1,
   "metadata": {},
   "outputs": [
    {
     "name": "stdout",
     "output_type": "stream",
     "text": [
      "10 10.0\n"
     ]
    }
   ],
   "source": [
    "#Statement hai isme sab total likha hota hai or right se shoro hota hai\n",
    "a,b =10,20/2; #20/2 ye expression hai jis me koi output ho\n",
    "print(a,b)\n"
   ]
  },
  {
   "cell_type": "markdown",
   "metadata": {},
   "source": [
    "Augmented Assignment Operator\n"
   ]
  },
  {
   "cell_type": "code",
   "execution_count": 2,
   "metadata": {},
   "outputs": [
    {
     "name": "stdout",
     "output_type": "stream",
     "text": [
      "20\n",
      "19\n"
     ]
    }
   ],
   "source": [
    "a = 10;\n",
    "#statement ko compacted(order de rahe) kr rahe hen\n",
    "a +=10; \n",
    "print(a)\n",
    "a -=1;\n",
    "print(a);"
   ]
  },
  {
   "cell_type": "markdown",
   "metadata": {},
   "source": [
    "Input Function"
   ]
  },
  {
   "cell_type": "code",
   "execution_count": 5,
   "metadata": {},
   "outputs": [
    {
     "name": "stdout",
     "output_type": "stream",
     "text": [
      "Hoo Apka Ajmal hai\n"
     ]
    }
   ],
   "source": [
    "name = input('Apka Naam');\n",
    "print('Hoo Apka',name,'hai')"
   ]
  },
  {
   "cell_type": "markdown",
   "metadata": {},
   "source": [
    "Type Conversion"
   ]
  },
  {
   "cell_type": "code",
   "execution_count": 6,
   "metadata": {},
   "outputs": [
    {
     "name": "stdout",
     "output_type": "stream",
     "text": [
      "7\n"
     ]
    }
   ],
   "source": [
    "num_1 = 2;\n",
    "num_2 = int(input('Enter Any number')); #by defualt ye string leta hai or input ko string me convert kr deta hai\n",
    "print(num_1+num_2);"
   ]
  },
  {
   "cell_type": "code",
   "execution_count": 7,
   "metadata": {},
   "outputs": [
    {
     "name": "stdout",
     "output_type": "stream",
     "text": [
      "Aapne sirf number likhne kaha tha, kripya sirf number likhein.\n"
     ]
    }
   ],
   "source": [
    "def check_string(input_str):\n",
    "    if input_str.isdigit():\n",
    "        print(\"Sirf number\")\n",
    "    else:\n",
    "        print(\"Aapne sirf number likhne kaha tha, kripya sirf number likhein.\")\n",
    "\n",
    "# Example usage:\n",
    "user_input = input(\"Kripya kuch likhein: \")\n",
    "check_string(user_input)\n"
   ]
  },
  {
   "cell_type": "markdown",
   "metadata": {},
   "source": [
    "String Formatting\n"
   ]
  },
  {
   "cell_type": "code",
   "execution_count": 8,
   "metadata": {},
   "outputs": [
    {
     "name": "stdout",
     "output_type": "stream",
     "text": [
      "Hey  Ajmal Your item price is 10\n",
      "Hey Ajmal, Your item price is10\n",
      "Hey Ajmal Your item price is 10\n",
      "Hey Ajmal Your item price is 10\n",
      "Hey 10 Your item price is Ajmal\n"
     ]
    }
   ],
   "source": [
    "name = 'Ajmal';\n",
    "price = 10;\n",
    "print(\"Hey \",name, \"Your item price is\",price); #muskil tareka\n",
    "print(f'Hey {name}, Your item price is{price}'); # new but sabse asaan tarika\n",
    "print(\"Hey {} Your item price is {}\".format(name,price));# old bt muskil trika\n",
    "print(\"Hey {0} Your item price is {1}\".format(name, price));# old index k zariye index 0 se shoro hota hai\n",
    "print(\"Hey {1} Your item price is {0}\".format(name, price)); #agr index glat dala to vlue bhi galat hojeaga\n"
   ]
  },
  {
   "cell_type": "markdown",
   "metadata": {},
   "source": [
    "Indexing "
   ]
  },
  {
   "cell_type": "code",
   "execution_count": 7,
   "metadata": {},
   "outputs": [
    {
     "name": "stdout",
     "output_type": "stream",
     "text": [
      "l\n",
      "blabla\n",
      "bal\n",
      "bb\n",
      "a\n",
      "bl\n",
      "albalb\n"
     ]
    }
   ],
   "source": [
    "osc = \"blabla\"\n",
    "print(osc[1]);\n",
    "print(osc[0::1]);\n",
    "print(osc[0::2]);\n",
    "print(osc[0::3]);\n",
    "print(osc[-1])\n",
    "print(osc[-3:-1]);\n",
    "print(osc[::-1]);\n"
   ]
  },
  {
   "cell_type": "markdown",
   "metadata": {},
   "source": [
    "Immutability\n"
   ]
  },
  {
   "cell_type": "code",
   "execution_count": 8,
   "metadata": {},
   "outputs": [
    {
     "name": "stdout",
     "output_type": "stream",
     "text": [
      "m\n"
     ]
    }
   ],
   "source": [
    "str_1 = \"Ajmal\";\n",
    "str_2 = 12345;\n",
    "str_3 ='12345';\n",
    "print(str_1[2])\n"
   ]
  },
  {
   "cell_type": "code",
   "execution_count": 7,
   "metadata": {},
   "outputs": [
    {
     "name": "stdout",
     "output_type": "stream",
     "text": [
      "Masala Chai\n",
      "a\n",
      "M a s a l a   C h a i\n",
      "['Masala', 'Chai']\n"
     ]
    }
   ],
   "source": [
    "chai = \"Masala Chai\"\n",
    "print(chai)\n",
    "print(chai[1])\n",
    "print(\" \".join(chai))\n",
    "print(chai.split(\" \"))"
   ]
  },
  {
   "cell_type": "code",
   "execution_count": 12,
   "metadata": {},
   "outputs": [
    {
     "name": "stdout",
     "output_type": "stream",
     "text": [
      "['Lemon', 'Ginger', 'Masala', 'chai']\n",
      "Lemon,Ginger,Masala,chai\n"
     ]
    }
   ],
   "source": [
    "chai = ['Lemon', 'Ginger', 'Masala']\n",
    "chai.append(\"chai\")\n",
    "print(chai)\n",
    "print(\",\".join(chai))"
   ]
  },
  {
   "cell_type": "code",
   "execution_count": 20,
   "metadata": {},
   "outputs": [
    {
     "name": "stdout",
     "output_type": "stream",
     "text": [
      "1234567\n",
      "0246\n",
      "76543210\n",
      "01234567\n"
     ]
    }
   ],
   "source": [
    "num_1 =\"01234567\"\n",
    "print(num_1[1:])\n",
    "print(num_1[0:7:2])\n",
    "\n",
    "print(num_1[::-1])\n",
    "print(num_1[0::])"
   ]
  },
  {
   "cell_type": "code",
   "execution_count": 16,
   "metadata": {},
   "outputs": [
    {
     "name": "stdout",
     "output_type": "stream",
     "text": [
      "Ali Beat required for this 400\n"
     ]
    }
   ],
   "source": [
    "metarial = \"Beat\"\n",
    "quantity = 400\n",
    "required=\"Ali {} required for this {}\";\n",
    "print(required.format(metarial,quantity)) "
   ]
  },
  {
   "cell_type": "code",
   "execution_count": 11,
   "metadata": {},
   "outputs": [
    {
     "name": "stdout",
     "output_type": "stream",
     "text": [
      "ajmal quraishi\n",
      "<built-in method center of str object at 0x0000018A41505D30>\n",
      "True\n",
      "ihsiaruQ lamjA\n",
      "jmal Quraishi\n",
      "['Ajmal', 'Quraishi']\n",
      "Ajmal Quraishi\n",
      "['Ajmal', 'Quraishi']\n",
      "False\n"
     ]
    }
   ],
   "source": [
    "name = \"Ajmal Quraishi\"\n",
    "print(name.casefold())\n",
    "print(name.center)\n",
    "print(name.endswith(\"i\"))\n",
    "print(name[::-1])\n",
    "print(name[1::])\n",
    "print(name.split())\n",
    "print(name)\n",
    "names = name.split();\n",
    "print(names)\n",
    "\n",
    "print(name.isalnum())"
   ]
  },
  {
   "cell_type": "code",
   "execution_count": 8,
   "metadata": {},
   "outputs": [
    {
     "name": "stdout",
     "output_type": "stream",
     "text": [
      "None\n",
      "['Orange', 'o', 'o', 'l', 'a', 'm', 'a', 'Ginger', 'Lemon']\n",
      "['Orange', 'oolama', 'o', 'l', 'a', 'm', 'a', 'Ginger', 'Lemon']\n",
      "['Orange', 'oolama', 'Ginger', 'Lemon']\n"
     ]
    }
   ],
   "source": [
    "chai_varaities = [\"Lemon\", \"Ginger\", \"Black\", \"Orange\", ]\n",
    "print(chai_varaities.reverse())\n",
    "len(chai_varaities)\n",
    "chai_varaities[1:2]= \"oolama\"\n",
    "print(chai_varaities)\n",
    "chai_varaities[1:2]=['oolama']\n",
    "print(chai_varaities)\n",
    "chai_varaities.remove('a')\n",
    "chai_varaities.remove('o')\n",
    "chai_varaities.remove('a')\n",
    "chai_varaities.remove('l')\n",
    "chai_varaities.remove('m')\n",
    "print(chai_varaities)\n"
   ]
  },
  {
   "cell_type": "code",
   "execution_count": 14,
   "metadata": {},
   "outputs": [
    {
     "name": "stdout",
     "output_type": "stream",
     "text": [
      "[0, 1, 16, 81, 256, 625, 1296, 2401, 4096, 6561, 10000, 14641, 20736, 28561, 38416, 50625, 65536, 83521, 104976, 130321]\n"
     ]
    }
   ],
   "source": [
    "squared_num = [i**4 for i in range(20)]\n",
    "print(squared_num)"
   ]
  },
  {
   "cell_type": "code",
   "execution_count": 22,
   "metadata": {},
   "outputs": [
    {
     "name": "stdout",
     "output_type": "stream",
     "text": [
      "['Ajmal', 'Ahsan', 'Awais']\n",
      "['Ajmal', 'Ahsan', 'Awais', 'umer']\n",
      "['Ajmal', 'Yusra', 'Ahsan', 'Awais', 'umer']\n",
      "['Ajmal', 'Yusra', 'Ahsan', 'Awais', 'umer']\n",
      "<built-in method index of list object at 0x00000267A836ACC0>\n",
      "[]\n"
     ]
    }
   ],
   "source": [
    "name =['Ajmal','Ahsan','Awais']\n",
    "print(name)\n",
    "name.append(\"umer\")\n",
    "print(name)\n",
    "name.insert(1, \"Yusra\")\n",
    "print(name)\n",
    "print(name.copy())\n",
    "\n",
    "name.clear()\n",
    "print(name)"
   ]
  }
 ],
 "metadata": {
  "kernelspec": {
   "display_name": "python",
   "language": "python",
   "name": "python3"
  },
  "language_info": {
   "codemirror_mode": {
    "name": "ipython",
    "version": 3
   },
   "file_extension": ".py",
   "mimetype": "text/x-python",
   "name": "python",
   "nbconvert_exporter": "python",
   "pygments_lexer": "ipython3",
   "version": "3.12.2"
  }
 },
 "nbformat": 4,
 "nbformat_minor": 2
}
